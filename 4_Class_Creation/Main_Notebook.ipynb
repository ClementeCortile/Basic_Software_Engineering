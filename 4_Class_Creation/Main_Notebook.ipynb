{
 "cells": [
  {
   "cell_type": "code",
   "execution_count": 6,
   "metadata": {},
   "outputs": [
    {
     "name": "stdout",
     "output_type": "stream",
     "text": [
      "Running Main\n",
      "This is the Circumference of circle A: 18.84\n",
      "This is the Area of circle A: 28.26\n",
      "This is the Circumference of circle B: 628.0\n",
      "This is the Area of circle B: 31400.0\n",
      "Ending main\n"
     ]
    }
   ],
   "source": [
    "\n",
    "import sys\n",
    "import os\n",
    "path = os.getcwd()\n",
    "sys.path.insert(0, path+'Software_Engineering(Basic)/4_Create_and_import_a_class' )\n",
    "\n",
    "from geom import Circle\n",
    "\n",
    "#Testing the class below!! Very Bad Practice! This should be done in the main file!\n",
    "\n",
    "print (\"Running Main\")\n",
    "\n",
    "#To create a class object assign it to a variable! Do not forget its arguments!!! (name and radius in this case)\n",
    "A = Circle(\"Cool_Circle\", 3)\n",
    "B = Circle(\"Big Circle\", 100)\n",
    "#If you run the object you'll see its memory location\n",
    "A\n",
    "B\n",
    "#Object name.attribute will print that specific object attribute (works both for class attributes and method attributes)\n",
    "A.name\n",
    "A.pi\n",
    "A.rad\n",
    "\n",
    "B.name\n",
    "B.pi\n",
    "B.rad\n",
    "\n",
    "#Let's use the object methods that we defined! (of course on the objects themselves)\n",
    "print(\"This is the Circumference of circle A:\", A.Circumference())\n",
    "print(\"This is the Area of circle A:\", A.Area())\n",
    "\n",
    "print(\"This is the Circumference of circle B:\", B.Circumference())\n",
    "print(\"This is the Area of circle B:\", B.Area())\n",
    "#Classes are extremely useful to quickly apply functions to similar data structures!\n",
    "\n",
    "print (\"Ending main\")"
   ]
  },
  {
   "cell_type": "code",
   "execution_count": null,
   "metadata": {},
   "outputs": [],
   "source": []
  }
 ],
 "metadata": {
  "kernelspec": {
   "display_name": "Python 3",
   "language": "python",
   "name": "python3"
  },
  "language_info": {
   "codemirror_mode": {
    "name": "ipython",
    "version": 3
   },
   "file_extension": ".py",
   "mimetype": "text/x-python",
   "name": "python",
   "nbconvert_exporter": "python",
   "pygments_lexer": "ipython3",
   "version": "3.6.5"
  }
 },
 "nbformat": 4,
 "nbformat_minor": 2
}
