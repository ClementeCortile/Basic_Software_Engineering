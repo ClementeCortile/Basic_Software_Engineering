{
 "cells": [
  {
   "cell_type": "code",
   "execution_count": 1,
   "metadata": {},
   "outputs": [
    {
     "name": "stdout",
     "output_type": "stream",
     "text": [
      "Index(['Unnamed: 0', 'DATETIME (LOCAL)', 'DATETIME (UTC)', 'DATE (LT)',\n",
      "       'DATE (UTC)', 'REGION', 'COUNTRY', 'INCIDENT TYPE', 'VESSEL TYPE',\n",
      "       'MAERSK?', 'VESSEL ACTIVITY LOCATION', 'LAT', 'LONG', 'TIMEZONE',\n",
      "       'TIME OF DAY', 'ATTACKS', 'ATTACK SUCCESS'],\n",
      "      dtype='object')\n",
      "Dataframe shape: (802, 17)\n"
     ]
    },
    {
     "ename": "NameError",
     "evalue": "name 'Utilities' is not defined",
     "output_type": "error",
     "traceback": [
      "\u001b[0;31m---------------------------------------------------------------------------\u001b[0m",
      "\u001b[0;31mNameError\u001b[0m                                 Traceback (most recent call last)",
      "\u001b[0;32m<ipython-input-1-99320ed92f48>\u001b[0m in \u001b[0;36m<module>\u001b[0;34m()\u001b[0m\n\u001b[1;32m     17\u001b[0m \u001b[0;34m\u001b[0m\u001b[0m\n\u001b[1;32m     18\u001b[0m \u001b[0;34m\u001b[0m\u001b[0m\n\u001b[0;32m---> 19\u001b[0;31m \u001b[0mUtilities\u001b[0m\u001b[0;34m.\u001b[0m\u001b[0mNaN_counter\u001b[0m\u001b[0;34m(\u001b[0m\u001b[0mdf\u001b[0m\u001b[0;34m)\u001b[0m\u001b[0;34m\u001b[0m\u001b[0m\n\u001b[0m",
      "\u001b[0;31mNameError\u001b[0m: name 'Utilities' is not defined"
     ]
    }
   ],
   "source": [
    "#In this directory Utilities.py contains a list of useful functions!\n",
    "\n",
    "import os\n",
    "import sys\n",
    "import numpy as np\n",
    "import pandas as pd\n",
    "import seaborn as sns\n",
    "\n",
    "import util\n",
    "\n",
    "df = pd.read_csv(\"/home/clemente/hub/Datasets/PA_Datasets/pirate_data.csv\")\n",
    "\n",
    "#let's explore the dataset a little\n",
    "print(df.columns)\n",
    "\n",
    "print(\"Dataframe shape:\", df.shape)\n",
    "\n",
    "\n",
    "util.NaN_counter(df)\n"
   ]
  },
  {
   "cell_type": "code",
   "execution_count": null,
   "metadata": {},
   "outputs": [],
   "source": [
    "Utilities.Corr_finder(df, 0.9)"
   ]
  },
  {
   "cell_type": "code",
   "execution_count": null,
   "metadata": {},
   "outputs": [],
   "source": []
  }
 ],
 "metadata": {
  "kernelspec": {
   "display_name": "Python 3",
   "language": "python",
   "name": "python3"
  },
  "language_info": {
   "codemirror_mode": {
    "name": "ipython",
    "version": 3
   },
   "file_extension": ".py",
   "mimetype": "text/x-python",
   "name": "python",
   "nbconvert_exporter": "python",
   "pygments_lexer": "ipython3",
   "version": "3.6.5"
  }
 },
 "nbformat": 4,
 "nbformat_minor": 2
}
