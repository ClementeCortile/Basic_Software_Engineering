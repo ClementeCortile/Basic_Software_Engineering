{
 "cells": [
  {
   "cell_type": "code",
   "execution_count": 3,
   "metadata": {},
   "outputs": [
    {
     "name": "stdout",
     "output_type": "stream",
     "text": [
      "Index(['Unnamed: 0', 'DATETIME (LOCAL)', 'DATETIME (UTC)', 'DATE (LT)',\n",
      "       'DATE (UTC)', 'REGION', 'COUNTRY', 'INCIDENT TYPE', 'VESSEL TYPE',\n",
      "       'MAERSK?', 'VESSEL ACTIVITY LOCATION', 'LAT', 'LONG', 'TIMEZONE',\n",
      "       'TIME OF DAY', 'ATTACKS', 'ATTACK SUCCESS'],\n",
      "      dtype='object')\n",
      "Dataframe shape: (802, 17)\n",
      "NaN Counter by columns\n",
      "DATETIME (LOCAL) : 220\n",
      "DATETIME (UTC) : 220\n",
      "VESSEL TYPE : 164\n",
      "VESSEL ACTIVITY LOCATION : 126\n"
     ]
    },
    {
     "data": {
      "text/html": [
       "<div>\n",
       "<style scoped>\n",
       "    .dataframe tbody tr th:only-of-type {\n",
       "        vertical-align: middle;\n",
       "    }\n",
       "\n",
       "    .dataframe tbody tr th {\n",
       "        vertical-align: top;\n",
       "    }\n",
       "\n",
       "    .dataframe thead th {\n",
       "        text-align: right;\n",
       "    }\n",
       "</style>\n",
       "<table border=\"1\" class=\"dataframe\">\n",
       "  <thead>\n",
       "    <tr style=\"text-align: right;\">\n",
       "      <th></th>\n",
       "      <th>Unnamed: 0</th>\n",
       "      <th>DATETIME (LOCAL)</th>\n",
       "      <th>DATETIME (UTC)</th>\n",
       "      <th>DATE (LT)</th>\n",
       "      <th>DATE (UTC)</th>\n",
       "      <th>REGION</th>\n",
       "      <th>COUNTRY</th>\n",
       "      <th>INCIDENT TYPE</th>\n",
       "      <th>VESSEL TYPE</th>\n",
       "      <th>MAERSK?</th>\n",
       "      <th>VESSEL ACTIVITY LOCATION</th>\n",
       "      <th>LAT</th>\n",
       "      <th>LONG</th>\n",
       "      <th>TIMEZONE</th>\n",
       "      <th>TIME OF DAY</th>\n",
       "      <th>ATTACKS</th>\n",
       "      <th>ATTACK SUCCESS</th>\n",
       "    </tr>\n",
       "  </thead>\n",
       "  <tbody>\n",
       "    <tr>\n",
       "      <th>0</th>\n",
       "      <td>0</td>\n",
       "      <td>220</td>\n",
       "      <td>220</td>\n",
       "      <td>0</td>\n",
       "      <td>0</td>\n",
       "      <td>0</td>\n",
       "      <td>0</td>\n",
       "      <td>0</td>\n",
       "      <td>164</td>\n",
       "      <td>0</td>\n",
       "      <td>126</td>\n",
       "      <td>0</td>\n",
       "      <td>0</td>\n",
       "      <td>0</td>\n",
       "      <td>0</td>\n",
       "      <td>0</td>\n",
       "      <td>0</td>\n",
       "    </tr>\n",
       "  </tbody>\n",
       "</table>\n",
       "</div>"
      ],
      "text/plain": [
       "   Unnamed: 0  DATETIME (LOCAL)  DATETIME (UTC)  DATE (LT)  DATE (UTC)  \\\n",
       "0           0               220             220          0           0   \n",
       "\n",
       "   REGION  COUNTRY  INCIDENT TYPE  VESSEL TYPE  MAERSK?  \\\n",
       "0       0        0              0          164        0   \n",
       "\n",
       "   VESSEL ACTIVITY LOCATION  LAT  LONG  TIMEZONE  TIME OF DAY  ATTACKS  \\\n",
       "0                       126    0     0         0            0        0   \n",
       "\n",
       "   ATTACK SUCCESS  \n",
       "0               0  "
      ]
     },
     "execution_count": 3,
     "metadata": {},
     "output_type": "execute_result"
    },
    {
     "data": {
      "image/png": "[encoded data removed]",
      "text/plain": [
       "<Figure size 432x288 with 1 Axes>"
      ]
     },
     "metadata": {},
     "output_type": "display_data"
    }
   ],
   "source": [
    "#In this directory Utilities.py contains a list of useful functions!\n",
    "\n",
    "import os\n",
    "import sys\n",
    "import numpy as np\n",
    "import pandas as pd\n",
    "import seaborn as sns\n",
    "\n",
    "import util\n",
    "\n",
    "df = pd.read_csv(\"/home/clemente/hub/Datasets/PA_Datasets/pirate_data.csv\")\n",
    "\n",
    "#let's explore the dataset a little\n",
    "print(df.columns)\n",
    "\n",
    "print(\"Dataframe shape:\", df.shape)\n",
    "\n",
    "\n",
    "util.NaN_counter(df)\n"
   ]
  },
  {
   "cell_type": "code",
   "execution_count": null,
   "metadata": {},
   "outputs": [],
   "source": []
  }
 ],
 "metadata": {
  "kernelspec": {
   "display_name": "Python 3",
   "language": "python",
   "name": "python3"
  },
  "language_info": {
   "codemirror_mode": {
    "name": "ipython",
    "version": 3
   },
   "file_extension": ".py",
   "mimetype": "text/x-python",
   "name": "python",
   "nbconvert_exporter": "python",
   "pygments_lexer": "ipython3",
   "version": "3.6.5"
  }
 },
 "nbformat": 4,
 "nbformat_minor": 2
}
